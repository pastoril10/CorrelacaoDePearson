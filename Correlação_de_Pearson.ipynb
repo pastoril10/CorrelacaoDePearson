{
  "nbformat": 4,
  "nbformat_minor": 0,
  "metadata": {
    "colab": {
      "name": "Correlação de Pearson",
      "provenance": [],
      "authorship_tag": "ABX9TyOnzYzNIEhOotXJhZss//We",
      "include_colab_link": true
    },
    "kernelspec": {
      "name": "python3",
      "display_name": "Python 3"
    },
    "language_info": {
      "name": "python"
    }
  },
  "cells": [
    {
      "cell_type": "markdown",
      "metadata": {
        "id": "view-in-github",
        "colab_type": "text"
      },
      "source": [
        "<a href=\"https://colab.research.google.com/github/pastoril10/CorrelacaoDePearson/blob/main/Correla%C3%A7%C3%A3o_de_Pearson.ipynb\" target=\"_parent\"><img src=\"https://colab.research.google.com/assets/colab-badge.svg\" alt=\"Open In Colab\"/></a>"
      ]
    },
    {
      "cell_type": "markdown",
      "source": [
        "# Correlação de Pearson\n",
        "\n"
      ],
      "metadata": {
        "id": "kuTf00Uy9qn2"
      }
    },
    {
      "cell_type": "markdown",
      "source": [
        "O coeficiente de correlação de Pearson não tem esse nome por\n",
        "acaso. \n",
        "É comum atribuir exclusivamente a Karl Pearson o\n",
        "desenvolvimento dessa estatística, no entanto, como bem lembrou\n",
        "Stanton (2001), a origem desse coeficiente remonta o trabalho conjunto\n",
        "de Karl Pearson e Francis Galton (Stanton, 2001: 01). Garson (2009)\n",
        "afirma que correlação “é uma medida de associação bivariada (força) do\n",
        "grau de relacionamento entre duas variáveis”. Para Moore (2007), “A\n",
        "correlação mensura a direção e o grau da relação linear entre duas\n",
        "variáveis quantitativas” (Moore, 2007: 100/101). \n",
        "\n",
        "Em uma frase: o coeficiente de correlação de Pearson (r) é uma medida de associação linear entre variáveis. "
      ],
      "metadata": {
        "id": "YLKLzPlA9Mlq"
      }
    },
    {
      "cell_type": "markdown",
      "source": [
        "Maetmaticamente, temos:"
      ],
      "metadata": {
        "id": "YTpzGngHBURJ"
      }
    },
    {
      "cell_type": "markdown",
      "source": [
        "![Sem título.png](data:image/png;base64,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)"
      ],
      "metadata": {
        "id": "UKSLAvPABPvU"
      }
    },
    {
      "cell_type": "markdown",
      "source": [
        "Afinal, o que significa dizer que duas variáveis estão\n",
        "associadas? Em termos estatísticos, duas variáveis se associam quando\n",
        "elas guardam semelhanças na distribuição dos seus escores. Mais\n",
        "precisamente, elas podem se associar a partir da distribuição das\n",
        "freqüências ou pelo compartilhamento de variância. No caso da\n",
        "correlação de Pearson (r) vale esse último parâmetro, ou seja, ele é uma\n",
        "medida da variância compartilhada entre duas variáveis. "
      ],
      "metadata": {
        "id": "devozVJ4BlLP"
      }
    },
    {
      "cell_type": "code",
      "execution_count": 2,
      "metadata": {
        "id": "EIrckxlQJBOW"
      },
      "outputs": [],
      "source": [
        "import pandas as pd\n",
        "import numpy as np\n",
        "import matplotlib.pyplot as plt"
      ]
    },
    {
      "cell_type": "code",
      "source": [
        "df = pd.read_csv(\"auto_mpg.csv\")"
      ],
      "metadata": {
        "id": "Kn8bvnmvCvqz"
      },
      "execution_count": 3,
      "outputs": []
    },
    {
      "cell_type": "code",
      "source": [
        "df.head()"
      ],
      "metadata": {
        "colab": {
          "base_uri": "https://localhost:8080/",
          "height": 206
        },
        "id": "RVUKIPweFNRe",
        "outputId": "387ccc33-bf95-473a-a795-4b90fc3b03ed"
      },
      "execution_count": 4,
      "outputs": [
        {
          "output_type": "execute_result",
          "data": {
            "text/html": [
              "\n",
              "  <div id=\"df-193117f3-394a-48a8-a5a9-1973bc27702c\">\n",
              "    <div class=\"colab-df-container\">\n",
              "      <div>\n",
              "<style scoped>\n",
              "    .dataframe tbody tr th:only-of-type {\n",
              "        vertical-align: middle;\n",
              "    }\n",
              "\n",
              "    .dataframe tbody tr th {\n",
              "        vertical-align: top;\n",
              "    }\n",
              "\n",
              "    .dataframe thead th {\n",
              "        text-align: right;\n",
              "    }\n",
              "</style>\n",
              "<table border=\"1\" class=\"dataframe\">\n",
              "  <thead>\n",
              "    <tr style=\"text-align: right;\">\n",
              "      <th></th>\n",
              "      <th>City MPG</th>\n",
              "      <th>Highway MPG</th>\n",
              "    </tr>\n",
              "  </thead>\n",
              "  <tbody>\n",
              "    <tr>\n",
              "      <th>0</th>\n",
              "      <td>21</td>\n",
              "      <td>27</td>\n",
              "    </tr>\n",
              "    <tr>\n",
              "      <th>1</th>\n",
              "      <td>21</td>\n",
              "      <td>27</td>\n",
              "    </tr>\n",
              "    <tr>\n",
              "      <th>2</th>\n",
              "      <td>19</td>\n",
              "      <td>26</td>\n",
              "    </tr>\n",
              "    <tr>\n",
              "      <th>3</th>\n",
              "      <td>24</td>\n",
              "      <td>30</td>\n",
              "    </tr>\n",
              "    <tr>\n",
              "      <th>4</th>\n",
              "      <td>18</td>\n",
              "      <td>22</td>\n",
              "    </tr>\n",
              "  </tbody>\n",
              "</table>\n",
              "</div>\n",
              "      <button class=\"colab-df-convert\" onclick=\"convertToInteractive('df-193117f3-394a-48a8-a5a9-1973bc27702c')\"\n",
              "              title=\"Convert this dataframe to an interactive table.\"\n",
              "              style=\"display:none;\">\n",
              "        \n",
              "  <svg xmlns=\"http://www.w3.org/2000/svg\" height=\"24px\"viewBox=\"0 0 24 24\"\n",
              "       width=\"24px\">\n",
              "    <path d=\"M0 0h24v24H0V0z\" fill=\"none\"/>\n",
              "    <path d=\"M18.56 5.44l.94 2.06.94-2.06 2.06-.94-2.06-.94-.94-2.06-.94 2.06-2.06.94zm-11 1L8.5 8.5l.94-2.06 2.06-.94-2.06-.94L8.5 2.5l-.94 2.06-2.06.94zm10 10l.94 2.06.94-2.06 2.06-.94-2.06-.94-.94-2.06-.94 2.06-2.06.94z\"/><path d=\"M17.41 7.96l-1.37-1.37c-.4-.4-.92-.59-1.43-.59-.52 0-1.04.2-1.43.59L10.3 9.45l-7.72 7.72c-.78.78-.78 2.05 0 2.83L4 21.41c.39.39.9.59 1.41.59.51 0 1.02-.2 1.41-.59l7.78-7.78 2.81-2.81c.8-.78.8-2.07 0-2.86zM5.41 20L4 18.59l7.72-7.72 1.47 1.35L5.41 20z\"/>\n",
              "  </svg>\n",
              "      </button>\n",
              "      \n",
              "  <style>\n",
              "    .colab-df-container {\n",
              "      display:flex;\n",
              "      flex-wrap:wrap;\n",
              "      gap: 12px;\n",
              "    }\n",
              "\n",
              "    .colab-df-convert {\n",
              "      background-color: #E8F0FE;\n",
              "      border: none;\n",
              "      border-radius: 50%;\n",
              "      cursor: pointer;\n",
              "      display: none;\n",
              "      fill: #1967D2;\n",
              "      height: 32px;\n",
              "      padding: 0 0 0 0;\n",
              "      width: 32px;\n",
              "    }\n",
              "\n",
              "    .colab-df-convert:hover {\n",
              "      background-color: #E2EBFA;\n",
              "      box-shadow: 0px 1px 2px rgba(60, 64, 67, 0.3), 0px 1px 3px 1px rgba(60, 64, 67, 0.15);\n",
              "      fill: #174EA6;\n",
              "    }\n",
              "\n",
              "    [theme=dark] .colab-df-convert {\n",
              "      background-color: #3B4455;\n",
              "      fill: #D2E3FC;\n",
              "    }\n",
              "\n",
              "    [theme=dark] .colab-df-convert:hover {\n",
              "      background-color: #434B5C;\n",
              "      box-shadow: 0px 1px 3px 1px rgba(0, 0, 0, 0.15);\n",
              "      filter: drop-shadow(0px 1px 2px rgba(0, 0, 0, 0.3));\n",
              "      fill: #FFFFFF;\n",
              "    }\n",
              "  </style>\n",
              "\n",
              "      <script>\n",
              "        const buttonEl =\n",
              "          document.querySelector('#df-193117f3-394a-48a8-a5a9-1973bc27702c button.colab-df-convert');\n",
              "        buttonEl.style.display =\n",
              "          google.colab.kernel.accessAllowed ? 'block' : 'none';\n",
              "\n",
              "        async function convertToInteractive(key) {\n",
              "          const element = document.querySelector('#df-193117f3-394a-48a8-a5a9-1973bc27702c');\n",
              "          const dataTable =\n",
              "            await google.colab.kernel.invokeFunction('convertToInteractive',\n",
              "                                                     [key], {});\n",
              "          if (!dataTable) return;\n",
              "\n",
              "          const docLinkHtml = 'Like what you see? Visit the ' +\n",
              "            '<a target=\"_blank\" href=https://colab.research.google.com/notebooks/data_table.ipynb>data table notebook</a>'\n",
              "            + ' to learn more about interactive tables.';\n",
              "          element.innerHTML = '';\n",
              "          dataTable['output_type'] = 'display_data';\n",
              "          await google.colab.output.renderOutput(dataTable, element);\n",
              "          const docLink = document.createElement('div');\n",
              "          docLink.innerHTML = docLinkHtml;\n",
              "          element.appendChild(docLink);\n",
              "        }\n",
              "      </script>\n",
              "    </div>\n",
              "  </div>\n",
              "  "
            ],
            "text/plain": [
              "   City MPG  Highway MPG\n",
              "0        21           27\n",
              "1        21           27\n",
              "2        19           26\n",
              "3        24           30\n",
              "4        18           22"
            ]
          },
          "metadata": {},
          "execution_count": 4
        }
      ]
    },
    {
      "cell_type": "code",
      "source": [
        "df.plot.scatter(x = \"City MPG\", y = \"Highway MPG\", figsize = (14,6))"
      ],
      "metadata": {
        "colab": {
          "base_uri": "https://localhost:8080/",
          "height": 405
        },
        "id": "JLyOzd-SFOXK",
        "outputId": "1e7b01bc-9980-4f3d-99fa-3ec3495daee4"
      },
      "execution_count": 5,
      "outputs": [
        {
          "output_type": "execute_result",
          "data": {
            "text/plain": [
              "<matplotlib.axes._subplots.AxesSubplot at 0x7f5f46ba7290>"
            ]
          },
          "metadata": {},
          "execution_count": 5
        },
        {
          "output_type": "display_data",
          "data": {
            "image/png": "[encoded data removed]",
            "text/plain": [
              "<Figure size 1008x432 with 1 Axes>"
            ]
          },
          "metadata": {
            "needs_background": "light"
          }
        }
      ]
    },
    {
      "cell_type": "markdown",
      "source": [
        "#Separando os dados para aplicação de modelo de estatistico"
      ],
      "metadata": {
        "id": "sk5_pYRV4J1K"
      }
    },
    {
      "cell_type": "code",
      "source": [
        "#Importando a bibliotaca para separar os dados em dados de treino e teste\n",
        "from sklearn.model_selection import train_test_split\n",
        "from sklearn.linear_model import LinearRegression"
      ],
      "metadata": {
        "id": "5Lrz-7V04gXI"
      },
      "execution_count": 6,
      "outputs": []
    },
    {
      "cell_type": "code",
      "source": [
        "#Salvando a primeira coluna na variavel x\n",
        "X = df.iloc[:, 0:1].values"
      ],
      "metadata": {
        "id": "6-AVn5h23X8U"
      },
      "execution_count": 7,
      "outputs": []
    },
    {
      "cell_type": "code",
      "source": [
        "#Salvando a segunda coluna na variavel y\n",
        "y = df.iloc[:, 1:2].values"
      ],
      "metadata": {
        "id": "XaIKYmuZ3dE8"
      },
      "execution_count": 8,
      "outputs": []
    },
    {
      "cell_type": "code",
      "source": [
        "X_train, X_test, y_train, y_test = train_test_split(X, y, test_size=0.2, random_state=0)"
      ],
      "metadata": {
        "id": "3ecYgtpi30xr"
      },
      "execution_count": 9,
      "outputs": []
    },
    {
      "cell_type": "code",
      "source": [
        "len(X_train), len(X_test)"
      ],
      "metadata": {
        "colab": {
          "base_uri": "https://localhost:8080/"
        },
        "id": "oRSQjHUU6HZf",
        "outputId": "67b905dc-0bca-4f52-992d-6f79012a45cd"
      },
      "execution_count": 10,
      "outputs": [
        {
          "output_type": "execute_result",
          "data": {
            "text/plain": [
              "(164, 41)"
            ]
          },
          "metadata": {},
          "execution_count": 10
        }
      ]
    },
    {
      "cell_type": "code",
      "source": [
        "lr = LinearRegression()"
      ],
      "metadata": {
        "id": "bQRard976OnZ"
      },
      "execution_count": 11,
      "outputs": []
    },
    {
      "cell_type": "code",
      "source": [
        "lr.fit(X_train, y_train)"
      ],
      "metadata": {
        "colab": {
          "base_uri": "https://localhost:8080/"
        },
        "id": "JNNGVBy77OLP",
        "outputId": "2ccee79d-412d-4f3a-de25-075bbb1c7f6a"
      },
      "execution_count": 12,
      "outputs": [
        {
          "output_type": "execute_result",
          "data": {
            "text/plain": [
              "LinearRegression()"
            ]
          },
          "metadata": {},
          "execution_count": 12
        }
      ]
    },
    {
      "cell_type": "code",
      "source": [
        "print(\"score = \"+ str(lr.score(X_train, y_train)))"
      ],
      "metadata": {
        "colab": {
          "base_uri": "https://localhost:8080/"
        },
        "id": "212uVkVr7VTj",
        "outputId": "5bd3844a-9e90-4a1d-d215-c9f137fa005f"
      },
      "execution_count": 27,
      "outputs": [
        {
          "output_type": "stream",
          "name": "stdout",
          "text": [
            "score = 0.941771896785808\n"
          ]
        }
      ]
    },
    {
      "cell_type": "code",
      "source": [
        "plt.figure(figsize=(14,6))\n",
        "plt.xlabel(\"City MPG\")\n",
        "plt.ylabel(\"Highway MPG\")\n",
        "\n",
        "plt.scatter(X_train, y_train, color = \"blue\")\n",
        "plt.show()"
      ],
      "metadata": {
        "colab": {
          "base_uri": "https://localhost:8080/",
          "height": 388
        },
        "id": "0Q1qiOmH7m9c",
        "outputId": "b14ab3a8-ff6a-47fb-84b6-6b2b3a1e9b76"
      },
      "execution_count": 14,
      "outputs": [
        {
          "output_type": "display_data",
          "data": {
            "image/png": "[encoded data removed]",
            "text/plain": [
              "<Figure size 1008x432 with 1 Axes>"
            ]
          },
          "metadata": {
            "needs_background": "light"
          }
        }
      ]
    },
    {
      "cell_type": "code",
      "source": [
        "plt.figure(figsize=(14,6))\n",
        "plt.xlabel(\"City MPG\")\n",
        "plt.ylabel(\"Highway MPG\")\n",
        "\n",
        "plt.scatter(X_train, y_train, color = \"blue\")\n",
        "plt.plot(X_train, lr.predict(X_train), color=\"red\")\n",
        "\n",
        "plt.show()"
      ],
      "metadata": {
        "colab": {
          "base_uri": "https://localhost:8080/",
          "height": 388
        },
        "id": "yHmFsGL8-SnB",
        "outputId": "2708e5d4-8156-495b-c922-753f0ec2b027"
      },
      "execution_count": 15,
      "outputs": [
        {
          "output_type": "display_data",
          "data": {
            "image/png": "[encoded data removed]",
            "text/plain": [
              "<Figure size 1008x432 with 1 Axes>"
            ]
          },
          "metadata": {
            "needs_background": "light"
          }
        }
      ]
    },
    {
      "cell_type": "code",
      "source": [
        "plt.figure(figsize=(14,6))\n",
        "plt.xlabel(\"City MPG\")\n",
        "plt.ylabel(\"Highway MPG\")\n",
        "\n",
        "plt.scatter(X_test, y_test, marker = \"o\", color = \"lightblue\", label = \"Valor atual\")\n",
        "plt.scatter(X_test, lr.predict(X_test), marker = \"+\", color = \"black\", label = \"Valores predição\")\n",
        "\n",
        "#plt.plot(X_train, lr.predict(X_train), color=\"red\")\n",
        "plt.legend()\n",
        "\n",
        "plt.show()"
      ],
      "metadata": {
        "id": "6fPiWVez_ymJ",
        "colab": {
          "base_uri": "https://localhost:8080/",
          "height": 388
        },
        "outputId": "39ff5bb8-f192-4d4d-9ecc-f9bc87f7344c"
      },
      "execution_count": 24,
      "outputs": [
        {
          "output_type": "display_data",
          "data": {
            "image/png": "[encoded data removed]",
            "text/plain": [
              "<Figure size 1008x432 with 1 Axes>"
            ]
          },
          "metadata": {
            "needs_background": "light"
          }
        }
      ]
    },
    {
      "cell_type": "code",
      "source": [
        "#O defout é o metodo Pearson.\n",
        "df.corr()"
      ],
      "metadata": {
        "colab": {
          "base_uri": "https://localhost:8080/",
          "height": 112
        },
        "id": "yVcM3vZhyPUx",
        "outputId": "631b24eb-034a-4276-c3b5-1797ffe8b341"
      },
      "execution_count": 26,
      "outputs": [
        {
          "output_type": "execute_result",
          "data": {
            "text/html": [
              "\n",
              "  <div id=\"df-8dad9fcf-790b-4aa9-96b0-ac3050d5bf08\">\n",
              "    <div class=\"colab-df-container\">\n",
              "      <div>\n",
              "<style scoped>\n",
              "    .dataframe tbody tr th:only-of-type {\n",
              "        vertical-align: middle;\n",
              "    }\n",
              "\n",
              "    .dataframe tbody tr th {\n",
              "        vertical-align: top;\n",
              "    }\n",
              "\n",
              "    .dataframe thead th {\n",
              "        text-align: right;\n",
              "    }\n",
              "</style>\n",
              "<table border=\"1\" class=\"dataframe\">\n",
              "  <thead>\n",
              "    <tr style=\"text-align: right;\">\n",
              "      <th></th>\n",
              "      <th>City MPG</th>\n",
              "      <th>Highway MPG</th>\n",
              "    </tr>\n",
              "  </thead>\n",
              "  <tbody>\n",
              "    <tr>\n",
              "      <th>City MPG</th>\n",
              "      <td>1.000000</td>\n",
              "      <td>0.971337</td>\n",
              "    </tr>\n",
              "    <tr>\n",
              "      <th>Highway MPG</th>\n",
              "      <td>0.971337</td>\n",
              "      <td>1.000000</td>\n",
              "    </tr>\n",
              "  </tbody>\n",
              "</table>\n",
              "</div>\n",
              "      <button class=\"colab-df-convert\" onclick=\"convertToInteractive('df-8dad9fcf-790b-4aa9-96b0-ac3050d5bf08')\"\n",
              "              title=\"Convert this dataframe to an interactive table.\"\n",
              "              style=\"display:none;\">\n",
              "        \n",
              "  <svg xmlns=\"http://www.w3.org/2000/svg\" height=\"24px\"viewBox=\"0 0 24 24\"\n",
              "       width=\"24px\">\n",
              "    <path d=\"M0 0h24v24H0V0z\" fill=\"none\"/>\n",
              "    <path d=\"M18.56 5.44l.94 2.06.94-2.06 2.06-.94-2.06-.94-.94-2.06-.94 2.06-2.06.94zm-11 1L8.5 8.5l.94-2.06 2.06-.94-2.06-.94L8.5 2.5l-.94 2.06-2.06.94zm10 10l.94 2.06.94-2.06 2.06-.94-2.06-.94-.94-2.06-.94 2.06-2.06.94z\"/><path d=\"M17.41 7.96l-1.37-1.37c-.4-.4-.92-.59-1.43-.59-.52 0-1.04.2-1.43.59L10.3 9.45l-7.72 7.72c-.78.78-.78 2.05 0 2.83L4 21.41c.39.39.9.59 1.41.59.51 0 1.02-.2 1.41-.59l7.78-7.78 2.81-2.81c.8-.78.8-2.07 0-2.86zM5.41 20L4 18.59l7.72-7.72 1.47 1.35L5.41 20z\"/>\n",
              "  </svg>\n",
              "      </button>\n",
              "      \n",
              "  <style>\n",
              "    .colab-df-container {\n",
              "      display:flex;\n",
              "      flex-wrap:wrap;\n",
              "      gap: 12px;\n",
              "    }\n",
              "\n",
              "    .colab-df-convert {\n",
              "      background-color: #E8F0FE;\n",
              "      border: none;\n",
              "      border-radius: 50%;\n",
              "      cursor: pointer;\n",
              "      display: none;\n",
              "      fill: #1967D2;\n",
              "      height: 32px;\n",
              "      padding: 0 0 0 0;\n",
              "      width: 32px;\n",
              "    }\n",
              "\n",
              "    .colab-df-convert:hover {\n",
              "      background-color: #E2EBFA;\n",
              "      box-shadow: 0px 1px 2px rgba(60, 64, 67, 0.3), 0px 1px 3px 1px rgba(60, 64, 67, 0.15);\n",
              "      fill: #174EA6;\n",
              "    }\n",
              "\n",
              "    [theme=dark] .colab-df-convert {\n",
              "      background-color: #3B4455;\n",
              "      fill: #D2E3FC;\n",
              "    }\n",
              "\n",
              "    [theme=dark] .colab-df-convert:hover {\n",
              "      background-color: #434B5C;\n",
              "      box-shadow: 0px 1px 3px 1px rgba(0, 0, 0, 0.15);\n",
              "      filter: drop-shadow(0px 1px 2px rgba(0, 0, 0, 0.3));\n",
              "      fill: #FFFFFF;\n",
              "    }\n",
              "  </style>\n",
              "\n",
              "      <script>\n",
              "        const buttonEl =\n",
              "          document.querySelector('#df-8dad9fcf-790b-4aa9-96b0-ac3050d5bf08 button.colab-df-convert');\n",
              "        buttonEl.style.display =\n",
              "          google.colab.kernel.accessAllowed ? 'block' : 'none';\n",
              "\n",
              "        async function convertToInteractive(key) {\n",
              "          const element = document.querySelector('#df-8dad9fcf-790b-4aa9-96b0-ac3050d5bf08');\n",
              "          const dataTable =\n",
              "            await google.colab.kernel.invokeFunction('convertToInteractive',\n",
              "                                                     [key], {});\n",
              "          if (!dataTable) return;\n",
              "\n",
              "          const docLinkHtml = 'Like what you see? Visit the ' +\n",
              "            '<a target=\"_blank\" href=https://colab.research.google.com/notebooks/data_table.ipynb>data table notebook</a>'\n",
              "            + ' to learn more about interactive tables.';\n",
              "          element.innerHTML = '';\n",
              "          dataTable['output_type'] = 'display_data';\n",
              "          await google.colab.output.renderOutput(dataTable, element);\n",
              "          const docLink = document.createElement('div');\n",
              "          docLink.innerHTML = docLinkHtml;\n",
              "          element.appendChild(docLink);\n",
              "        }\n",
              "      </script>\n",
              "    </div>\n",
              "  </div>\n",
              "  "
            ],
            "text/plain": [
              "             City MPG  Highway MPG\n",
              "City MPG     1.000000     0.971337\n",
              "Highway MPG  0.971337     1.000000"
            ]
          },
          "metadata": {},
          "execution_count": 26
        }
      ]
    },
    {
      "cell_type": "markdown",
      "source": [
        "O resultado encontrado é de = 0,971337. Ou seja, existe uma correlação forte\n",
        "e positiva entre X e Y."
      ],
      "metadata": {
        "id": "n0Kw1R3XCNDE"
      }
    },
    {
      "cell_type": "code",
      "source": [
        ""
      ],
      "metadata": {
        "id": "RfZrm3uVCTp8"
      },
      "execution_count": null,
      "outputs": []
    }
  ]
}